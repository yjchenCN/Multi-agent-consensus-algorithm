{
 "cells": [
  {
   "cell_type": "code",
   "execution_count": 4,
   "metadata": {},
   "outputs": [
    {
     "name": "stderr",
     "output_type": "stream",
     "text": [
      "Iteration 0:   1%|          | 1/100 [00:00<01:33,  1.06it/s]"
     ]
    },
    {
     "name": "stdout",
     "output_type": "stream",
     "text": [
      "-10236.555814574258\n"
     ]
    },
    {
     "name": "stderr",
     "output_type": "stream",
     "text": [
      "Iteration 0:   2%|▏         | 2/100 [00:01<01:36,  1.02it/s]"
     ]
    },
    {
     "name": "stdout",
     "output_type": "stream",
     "text": [
      "-53049.386841776446\n"
     ]
    },
    {
     "name": "stderr",
     "output_type": "stream",
     "text": [
      "Iteration 0:   3%|▎         | 3/100 [00:02<01:33,  1.04it/s]"
     ]
    },
    {
     "name": "stdout",
     "output_type": "stream",
     "text": [
      "-39042.42915396705\n"
     ]
    },
    {
     "name": "stderr",
     "output_type": "stream",
     "text": [
      "Iteration 0:   4%|▍         | 4/100 [00:03<01:30,  1.06it/s]"
     ]
    },
    {
     "name": "stdout",
     "output_type": "stream",
     "text": [
      "-41399.35643930176\n"
     ]
    },
    {
     "name": "stderr",
     "output_type": "stream",
     "text": [
      "Iteration 0:   5%|▌         | 5/100 [00:04<01:27,  1.09it/s]"
     ]
    },
    {
     "name": "stdout",
     "output_type": "stream",
     "text": [
      "-44396.907803265305\n"
     ]
    },
    {
     "name": "stderr",
     "output_type": "stream",
     "text": [
      "Iteration 0:   6%|▌         | 6/100 [00:05<01:25,  1.10it/s]"
     ]
    },
    {
     "name": "stdout",
     "output_type": "stream",
     "text": [
      "-35470.449911673495\n"
     ]
    },
    {
     "name": "stderr",
     "output_type": "stream",
     "text": [
      "Iteration 0:   7%|▋         | 7/100 [00:06<01:25,  1.08it/s]"
     ]
    },
    {
     "name": "stdout",
     "output_type": "stream",
     "text": [
      "1946.6748522197804\n"
     ]
    },
    {
     "name": "stderr",
     "output_type": "stream",
     "text": [
      "Iteration 0:   8%|▊         | 8/100 [00:07<01:24,  1.09it/s]"
     ]
    },
    {
     "name": "stdout",
     "output_type": "stream",
     "text": [
      "-17348.78698551258\n"
     ]
    },
    {
     "name": "stderr",
     "output_type": "stream",
     "text": [
      "Iteration 0:   9%|▉         | 9/100 [00:08<01:22,  1.10it/s]"
     ]
    },
    {
     "name": "stdout",
     "output_type": "stream",
     "text": [
      "-16881.380137474924\n"
     ]
    },
    {
     "name": "stderr",
     "output_type": "stream",
     "text": [
      "Iteration 0:  10%|█         | 10/100 [00:09<01:20,  1.12it/s, episode=10, returns=-27285.758]"
     ]
    },
    {
     "name": "stdout",
     "output_type": "stream",
     "text": [
      "-16979.004627522958\n"
     ]
    },
    {
     "name": "stderr",
     "output_type": "stream",
     "text": [
      "Iteration 0:  11%|█         | 11/100 [00:10<01:19,  1.12it/s, episode=10, returns=-27285.758]"
     ]
    },
    {
     "name": "stdout",
     "output_type": "stream",
     "text": [
      "-17324.091415983465\n"
     ]
    },
    {
     "name": "stderr",
     "output_type": "stream",
     "text": [
      "Iteration 0:  12%|█▏        | 12/100 [00:10<01:19,  1.11it/s, episode=10, returns=-27285.758]"
     ]
    },
    {
     "name": "stdout",
     "output_type": "stream",
     "text": [
      "-16872.085283936314\n"
     ]
    },
    {
     "name": "stderr",
     "output_type": "stream",
     "text": [
      "Iteration 0:  13%|█▎        | 13/100 [00:11<01:18,  1.10it/s, episode=10, returns=-27285.758]"
     ]
    },
    {
     "name": "stdout",
     "output_type": "stream",
     "text": [
      "-16666.332309847254\n"
     ]
    },
    {
     "name": "stderr",
     "output_type": "stream",
     "text": [
      "Iteration 0:  13%|█▎        | 13/100 [00:12<01:21,  1.07it/s, episode=10, returns=-27285.758]\n"
     ]
    },
    {
     "ename": "KeyboardInterrupt",
     "evalue": "",
     "output_type": "error",
     "traceback": [
      "\u001b[0;31m---------------------------------------------------------------------------\u001b[0m",
      "\u001b[0;31mKeyboardInterrupt\u001b[0m                         Traceback (most recent call last)",
      "Cell \u001b[0;32mIn[4], line 354\u001b[0m\n\u001b[1;32m    352\u001b[0m use_cuda \u001b[38;5;241m=\u001b[39m \u001b[38;5;28;01mFalse\u001b[39;00m\n\u001b[1;32m    353\u001b[0m qmix \u001b[38;5;241m=\u001b[39m QMIX(env, args, use_cuda)\n\u001b[0;32m--> 354\u001b[0m total_q_values, total_returns \u001b[38;5;241m=\u001b[39m \u001b[43mqmix\u001b[49m\u001b[38;5;241;43m.\u001b[39;49m\u001b[43mrun\u001b[49m\u001b[43m(\u001b[49m\u001b[43margs\u001b[49m\u001b[38;5;241;43m.\u001b[39;49m\u001b[43mnum_episodes\u001b[49m\u001b[43m)\u001b[49m\n\u001b[1;32m    356\u001b[0m \u001b[38;5;66;03m# 可视化总回报变化\u001b[39;00m\n\u001b[1;32m    357\u001b[0m plt\u001b[38;5;241m.\u001b[39mplot(total_returns)\n",
      "Cell \u001b[0;32mIn[4], line 230\u001b[0m, in \u001b[0;36mQMIX.run\u001b[0;34m(self, num_episodes)\u001b[0m\n\u001b[1;32m    226\u001b[0m episode_q_values\u001b[38;5;241m.\u001b[39mappend(np\u001b[38;5;241m.\u001b[39mmean(q_values))\n\u001b[1;32m    228\u001b[0m episode_return \u001b[38;5;241m+\u001b[39m\u001b[38;5;241m=\u001b[39m \u001b[38;5;28msum\u001b[39m(rewards\u001b[38;5;241m.\u001b[39mvalues())\n\u001b[0;32m--> 230\u001b[0m \u001b[38;5;28;43mself\u001b[39;49m\u001b[38;5;241;43m.\u001b[39;49m\u001b[43mtrain\u001b[49m\u001b[43m(\u001b[49m\u001b[43m)\u001b[49m\n\u001b[1;32m    232\u001b[0m \u001b[38;5;28;01mif\u001b[39;00m \u001b[38;5;28mall\u001b[39m(dones\u001b[38;5;241m.\u001b[39mvalues()):\n\u001b[1;32m    233\u001b[0m     \u001b[38;5;28;01mbreak\u001b[39;00m\n",
      "Cell \u001b[0;32mIn[4], line 175\u001b[0m, in \u001b[0;36mQMIX.train\u001b[0;34m(self)\u001b[0m\n\u001b[1;32m    173\u001b[0m     actions \u001b[38;5;241m=\u001b[39m {agent: torch\u001b[38;5;241m.\u001b[39mtensor([a[agent] \u001b[38;5;28;01mfor\u001b[39;00m a \u001b[38;5;129;01min\u001b[39;00m actions], dtype\u001b[38;5;241m=\u001b[39mtorch\u001b[38;5;241m.\u001b[39mint64)\u001b[38;5;241m.\u001b[39mto(\u001b[38;5;28mself\u001b[39m\u001b[38;5;241m.\u001b[39mdevice) \u001b[38;5;28;01mfor\u001b[39;00m agent \u001b[38;5;129;01min\u001b[39;00m \u001b[38;5;28mself\u001b[39m\u001b[38;5;241m.\u001b[39menv\u001b[38;5;241m.\u001b[39magents}\n\u001b[1;32m    174\u001b[0m     rewards \u001b[38;5;241m=\u001b[39m {agent: torch\u001b[38;5;241m.\u001b[39mtensor([r[agent] \u001b[38;5;28;01mfor\u001b[39;00m r \u001b[38;5;129;01min\u001b[39;00m rewards], dtype\u001b[38;5;241m=\u001b[39mtorch\u001b[38;5;241m.\u001b[39mfloat32)\u001b[38;5;241m.\u001b[39mto(\u001b[38;5;28mself\u001b[39m\u001b[38;5;241m.\u001b[39mdevice) \u001b[38;5;28;01mfor\u001b[39;00m agent \u001b[38;5;129;01min\u001b[39;00m \u001b[38;5;28mself\u001b[39m\u001b[38;5;241m.\u001b[39menv\u001b[38;5;241m.\u001b[39magents}\n\u001b[0;32m--> 175\u001b[0m     next_states \u001b[38;5;241m=\u001b[39m {agent: torch\u001b[38;5;241m.\u001b[39mtensor([ns[agent] \u001b[38;5;28;01mfor\u001b[39;00m ns \u001b[38;5;129;01min\u001b[39;00m next_states], dtype\u001b[38;5;241m=\u001b[39mtorch\u001b[38;5;241m.\u001b[39mfloat32)\u001b[38;5;241m.\u001b[39mto(\u001b[38;5;28mself\u001b[39m\u001b[38;5;241m.\u001b[39mdevice) \u001b[38;5;28;01mfor\u001b[39;00m agent \u001b[38;5;129;01min\u001b[39;00m \u001b[38;5;28mself\u001b[39m\u001b[38;5;241m.\u001b[39menv\u001b[38;5;241m.\u001b[39magents}\n\u001b[1;32m    176\u001b[0m     dones \u001b[38;5;241m=\u001b[39m {agent: torch\u001b[38;5;241m.\u001b[39mtensor([d[agent] \u001b[38;5;28;01mfor\u001b[39;00m d \u001b[38;5;129;01min\u001b[39;00m dones], dtype\u001b[38;5;241m=\u001b[39mtorch\u001b[38;5;241m.\u001b[39mfloat32)\u001b[38;5;241m.\u001b[39mto(\u001b[38;5;28mself\u001b[39m\u001b[38;5;241m.\u001b[39mdevice) \u001b[38;5;28;01mfor\u001b[39;00m agent \u001b[38;5;129;01min\u001b[39;00m \u001b[38;5;28mself\u001b[39m\u001b[38;5;241m.\u001b[39menv\u001b[38;5;241m.\u001b[39magents}\n\u001b[1;32m    178\u001b[0m hidden_state \u001b[38;5;241m=\u001b[39m {agent: torch\u001b[38;5;241m.\u001b[39mzeros((\u001b[38;5;28mself\u001b[39m\u001b[38;5;241m.\u001b[39margs\u001b[38;5;241m.\u001b[39mbatch_size, \u001b[38;5;28mself\u001b[39m\u001b[38;5;241m.\u001b[39margs\u001b[38;5;241m.\u001b[39mrnn_hidden_dim), dtype\u001b[38;5;241m=\u001b[39mtorch\u001b[38;5;241m.\u001b[39mfloat32)\u001b[38;5;241m.\u001b[39mto(\u001b[38;5;28mself\u001b[39m\u001b[38;5;241m.\u001b[39mdevice) \u001b[38;5;28;01mfor\u001b[39;00m agent \u001b[38;5;129;01min\u001b[39;00m \u001b[38;5;28mself\u001b[39m\u001b[38;5;241m.\u001b[39menv\u001b[38;5;241m.\u001b[39magents}\n",
      "Cell \u001b[0;32mIn[4], line 175\u001b[0m, in \u001b[0;36m<dictcomp>\u001b[0;34m(.0)\u001b[0m\n\u001b[1;32m    173\u001b[0m     actions \u001b[38;5;241m=\u001b[39m {agent: torch\u001b[38;5;241m.\u001b[39mtensor([a[agent] \u001b[38;5;28;01mfor\u001b[39;00m a \u001b[38;5;129;01min\u001b[39;00m actions], dtype\u001b[38;5;241m=\u001b[39mtorch\u001b[38;5;241m.\u001b[39mint64)\u001b[38;5;241m.\u001b[39mto(\u001b[38;5;28mself\u001b[39m\u001b[38;5;241m.\u001b[39mdevice) \u001b[38;5;28;01mfor\u001b[39;00m agent \u001b[38;5;129;01min\u001b[39;00m \u001b[38;5;28mself\u001b[39m\u001b[38;5;241m.\u001b[39menv\u001b[38;5;241m.\u001b[39magents}\n\u001b[1;32m    174\u001b[0m     rewards \u001b[38;5;241m=\u001b[39m {agent: torch\u001b[38;5;241m.\u001b[39mtensor([r[agent] \u001b[38;5;28;01mfor\u001b[39;00m r \u001b[38;5;129;01min\u001b[39;00m rewards], dtype\u001b[38;5;241m=\u001b[39mtorch\u001b[38;5;241m.\u001b[39mfloat32)\u001b[38;5;241m.\u001b[39mto(\u001b[38;5;28mself\u001b[39m\u001b[38;5;241m.\u001b[39mdevice) \u001b[38;5;28;01mfor\u001b[39;00m agent \u001b[38;5;129;01min\u001b[39;00m \u001b[38;5;28mself\u001b[39m\u001b[38;5;241m.\u001b[39menv\u001b[38;5;241m.\u001b[39magents}\n\u001b[0;32m--> 175\u001b[0m     next_states \u001b[38;5;241m=\u001b[39m {agent: \u001b[43mtorch\u001b[49m\u001b[38;5;241;43m.\u001b[39;49m\u001b[43mtensor\u001b[49m\u001b[43m(\u001b[49m\u001b[43m[\u001b[49m\u001b[43mns\u001b[49m\u001b[43m[\u001b[49m\u001b[43magent\u001b[49m\u001b[43m]\u001b[49m\u001b[43m \u001b[49m\u001b[38;5;28;43;01mfor\u001b[39;49;00m\u001b[43m \u001b[49m\u001b[43mns\u001b[49m\u001b[43m \u001b[49m\u001b[38;5;129;43;01min\u001b[39;49;00m\u001b[43m \u001b[49m\u001b[43mnext_states\u001b[49m\u001b[43m]\u001b[49m\u001b[43m,\u001b[49m\u001b[43m \u001b[49m\u001b[43mdtype\u001b[49m\u001b[38;5;241;43m=\u001b[39;49m\u001b[43mtorch\u001b[49m\u001b[38;5;241;43m.\u001b[39;49m\u001b[43mfloat32\u001b[49m\u001b[43m)\u001b[49m\u001b[38;5;241m.\u001b[39mto(\u001b[38;5;28mself\u001b[39m\u001b[38;5;241m.\u001b[39mdevice) \u001b[38;5;28;01mfor\u001b[39;00m agent \u001b[38;5;129;01min\u001b[39;00m \u001b[38;5;28mself\u001b[39m\u001b[38;5;241m.\u001b[39menv\u001b[38;5;241m.\u001b[39magents}\n\u001b[1;32m    176\u001b[0m     dones \u001b[38;5;241m=\u001b[39m {agent: torch\u001b[38;5;241m.\u001b[39mtensor([d[agent] \u001b[38;5;28;01mfor\u001b[39;00m d \u001b[38;5;129;01min\u001b[39;00m dones], dtype\u001b[38;5;241m=\u001b[39mtorch\u001b[38;5;241m.\u001b[39mfloat32)\u001b[38;5;241m.\u001b[39mto(\u001b[38;5;28mself\u001b[39m\u001b[38;5;241m.\u001b[39mdevice) \u001b[38;5;28;01mfor\u001b[39;00m agent \u001b[38;5;129;01min\u001b[39;00m \u001b[38;5;28mself\u001b[39m\u001b[38;5;241m.\u001b[39menv\u001b[38;5;241m.\u001b[39magents}\n\u001b[1;32m    178\u001b[0m hidden_state \u001b[38;5;241m=\u001b[39m {agent: torch\u001b[38;5;241m.\u001b[39mzeros((\u001b[38;5;28mself\u001b[39m\u001b[38;5;241m.\u001b[39margs\u001b[38;5;241m.\u001b[39mbatch_size, \u001b[38;5;28mself\u001b[39m\u001b[38;5;241m.\u001b[39margs\u001b[38;5;241m.\u001b[39mrnn_hidden_dim), dtype\u001b[38;5;241m=\u001b[39mtorch\u001b[38;5;241m.\u001b[39mfloat32)\u001b[38;5;241m.\u001b[39mto(\u001b[38;5;28mself\u001b[39m\u001b[38;5;241m.\u001b[39mdevice) \u001b[38;5;28;01mfor\u001b[39;00m agent \u001b[38;5;129;01min\u001b[39;00m \u001b[38;5;28mself\u001b[39m\u001b[38;5;241m.\u001b[39menv\u001b[38;5;241m.\u001b[39magents}\n",
      "\u001b[0;31mKeyboardInterrupt\u001b[0m: "
     ]
    }
   ],
   "source": [
    "import torch\n",
    "import torch.nn as nn\n",
    "import torch.nn.functional as F\n",
    "from torch.optim import Adam\n",
    "import numpy as np\n",
    "import matplotlib.pyplot as plt\n",
    "from collections import deque\n",
    "import random\n",
    "from env.custom_environment import CustomEnvironment\n",
    "from tqdm import tqdm\n",
    "\n",
    "# Replay Buffer定义\n",
    "class ReplayBuffer:\n",
    "    def __init__(self, buffer_size):\n",
    "        self.buffer = deque(maxlen=buffer_size)\n",
    "\n",
    "    def add(self, experience):\n",
    "        self.buffer.append(experience)\n",
    "\n",
    "    def sample(self, batch_size):\n",
    "        indices = np.random.choice(len(self.buffer), batch_size, replace=False)\n",
    "        batch = [self.buffer[idx] for idx in indices]\n",
    "        states, actions, rewards, next_states, dones = map(np.array, zip(*batch))\n",
    "        return states, actions, rewards, next_states, dones\n",
    "\n",
    "    def __len__(self):\n",
    "        return len(self.buffer)\n",
    "\n",
    "\n",
    "# QMIX网络定义\n",
    "class QMixNet(nn.Module):\n",
    "    def __init__(self, args):\n",
    "        super(QMixNet, self).__init__()\n",
    "        self.args = args\n",
    "\n",
    "        if args.two_hyper_layers:\n",
    "            self.hyper_w1 = nn.Sequential(nn.Linear(args.state_shape * args.n_agents, args.hyper_hidden_dim),\n",
    "                                          nn.ReLU(),\n",
    "                                          nn.Linear(args.hyper_hidden_dim, args.n_agents * args.qmix_hidden_dim))\n",
    "            self.hyper_w2 = nn.Sequential(nn.Linear(args.state_shape * args.n_agents, args.hyper_hidden_dim),\n",
    "                                          nn.ReLU(),\n",
    "                                          nn.Linear(args.hyper_hidden_dim, args.qmix_hidden_dim * 1))\n",
    "        else:\n",
    "            self.hyper_w1 = nn.Linear(args.state_shape * args.n_agents, args.n_agents * args.qmix_hidden_dim)\n",
    "            self.hyper_w2 = nn.Linear(args.state_shape * args.n_agents, args.qmix_hidden_dim * 1)\n",
    "\n",
    "        self.hyper_b1 = nn.Linear(args.state_shape * args.n_agents, args.qmix_hidden_dim)\n",
    "        self.hyper_b2 = nn.Sequential(nn.Linear(args.state_shape * args.n_agents, args.qmix_hidden_dim),\n",
    "                                      nn.ReLU(),\n",
    "                                      nn.Linear(args.qmix_hidden_dim, 1))\n",
    "\n",
    "    def forward(self, q_values, states):\n",
    "        episode_num = q_values.size(0)\n",
    "        q_values = q_values.view(episode_num, 1, self.args.n_agents)\n",
    "        states = states.view(episode_num, -1)\n",
    "\n",
    "        w1 = torch.abs(self.hyper_w1(states))\n",
    "        b1 = self.hyper_b1(states)\n",
    "        w1 = w1.view(episode_num, self.args.n_agents, self.args.qmix_hidden_dim)\n",
    "        b1 = b1.view(episode_num, 1, self.args.qmix_hidden_dim)\n",
    "\n",
    "        hidden = F.elu(torch.bmm(q_values, w1) + b1)\n",
    "        w2 = torch.abs(self.hyper_w2(states))\n",
    "        b2 = self.hyper_b2(states)\n",
    "        w2 = w2.view(episode_num, self.args.qmix_hidden_dim, 1)\n",
    "        b2 = b2.view(episode_num, 1, 1)\n",
    "\n",
    "        q_total = torch.bmm(hidden, w2) + b2\n",
    "        q_total = q_total.view(episode_num, -1, 1)\n",
    "        return q_total\n",
    "\n",
    "\n",
    "# RNN定义\n",
    "class RNN(nn.Module):\n",
    "    def __init__(self, input_shape, args):\n",
    "        super(RNN, self).__init__()\n",
    "        self.args = args\n",
    "        self.fc1 = nn.Linear(input_shape, args.rnn_hidden_dim)\n",
    "        self.rnn = nn.GRUCell(args.rnn_hidden_dim, args.rnn_hidden_dim)\n",
    "        self.fc2 = nn.Linear(args.rnn_hidden_dim, args.n_actions)\n",
    "\n",
    "    def forward(self, obs, hidden_state):\n",
    "        x = F.relu(self.fc1(obs))\n",
    "        h_in = hidden_state.reshape(-1, self.args.rnn_hidden_dim)\n",
    "        h = self.rnn(x, h_in)\n",
    "        q = self.fc2(h)\n",
    "        return q, h\n",
    "\n",
    "\n",
    "class QMIX:\n",
    "    def __init__(self, env, args, use_cuda=False):\n",
    "        self.env = env\n",
    "        self.args = args\n",
    "        self.use_cuda = use_cuda\n",
    "        self.device = torch.device(\"cuda\" if use_cuda and torch.cuda.is_available() else \"cpu\")\n",
    "        self.replay_buffer = ReplayBuffer(args.buffer_size)\n",
    "        self.rnn = RNN(args.obs_shape, args).to(self.device)\n",
    "        self.qmix_net = QMixNet(args).to(self.device)\n",
    "        self.optimizer = Adam(list(self.rnn.parameters()) + list(self.qmix_net.parameters()), lr=args.lr)\n",
    "        self.loss_fn = nn.MSELoss()\n",
    "\n",
    "    def choose_action(self, obs, hidden_state, epsilon=0.01):\n",
    "        actions = {}\n",
    "        new_hidden_state = {}\n",
    "\n",
    "        for agent in self.env.agents:\n",
    "            agent_obs = torch.tensor(obs[agent], dtype=torch.float32).unsqueeze(0).to(self.device)\n",
    "            agent_hidden_state = torch.tensor(hidden_state[agent], dtype=torch.float32).unsqueeze(0).to(self.device)\n",
    "            q_values, new_agent_hidden_state = self.rnn(agent_obs, agent_hidden_state)\n",
    "            \n",
    "            if random.random() < epsilon:\n",
    "                action = random.choice(range(self.args.n_actions))  # 以 ε 的概率随机选择动作\n",
    "            else:\n",
    "                action = q_values.argmax(dim=-1).item()  # 以 1-ε 的概率选择 Q 值最大的动作\n",
    "                \n",
    "            actions[agent] = action\n",
    "            new_hidden_state[agent] = new_agent_hidden_state.detach().cpu().numpy()\n",
    "\n",
    "        return actions, new_hidden_state\n",
    "\n",
    "    '''def train(self):\n",
    "        if len(self.replay_buffer) < self.args.batch_size:\n",
    "            return\n",
    "\n",
    "        states, actions, rewards, next_states, dones = self.replay_buffer.sample(self.args.batch_size)\n",
    "        states = {agent: torch.tensor([s[agent] for s in states], dtype=torch.float32).to(self.device) for agent in self.env.agents}\n",
    "        actions = {agent: torch.tensor([a[agent] for a in actions], dtype=torch.int64).to(self.device) for agent in self.env.agents}\n",
    "        rewards = {agent: torch.tensor([r[agent] for r in rewards], dtype=torch.float32).to(self.device) for agent in self.env.agents}\n",
    "        next_states = {agent: torch.tensor([ns[agent] for ns in next_states], dtype=torch.float32).to(self.device) for agent in self.env.agents}\n",
    "        dones = {agent: torch.tensor([d[agent] for d in dones], dtype=torch.float32).to(self.device) for agent in self.env.agents}\n",
    "\n",
    "        hidden_state = {agent: torch.zeros((self.args.batch_size, self.args.rnn_hidden_dim), dtype=torch.float32).to(self.device) for agent in self.env.agents}\n",
    "        next_hidden_state = {agent: torch.zeros((self.args.batch_size, self.args.rnn_hidden_dim), dtype=torch.float32).to(self.device) for agent in self.env.agents}\n",
    "\n",
    "        q_values = {agent: self.rnn(states[agent], hidden_state[agent])[0].gather(1, actions[agent].unsqueeze(-1)).squeeze(-1) for agent in self.env.agents}\n",
    "        next_q_values = {agent: self.rnn(next_states[agent], next_hidden_state[agent])[0].max(dim=-1)[0] for agent in self.env.agents}\n",
    "\n",
    "        targets = {agent: rewards[agent] + self.args.gamma * next_q_values[agent] * (1 - dones[agent]) for agent in self.env.agents}\n",
    "\n",
    "        q_values_tensor = torch.stack(list(q_values.values()), dim=1)\n",
    "        targets_tensor = torch.stack(list(targets.values()), dim=1)\n",
    "        states_tensor = torch.cat([states[agent].view(self.args.batch_size, -1) for agent in self.env.agents], dim=1)\n",
    "\n",
    "        q_total = self.qmix_net(q_values_tensor, states_tensor)\n",
    "        targets_total = self.qmix_net(targets_tensor, states_tensor)\n",
    "\n",
    "        loss = self.loss_fn(q_total, targets_total.detach())\n",
    "        self.optimizer.zero_grad()\n",
    "        loss.backward()\n",
    "        self.optimizer.step()'''\n",
    "    \n",
    "    def train(self):\n",
    "        '''if len(self.replay_buffer) < self.args.minimal_size:\n",
    "            return\n",
    "\n",
    "        states, actions, rewards, next_states, dones = self.replay_buffer.sample(self.args.batch_size)\n",
    "        states = {agent: torch.tensor([s[agent] for s in states], dtype=torch.float32).to(self.device) for agent in self.env.agents}\n",
    "        actions = {agent: torch.tensor([a[agent] for a in actions], dtype=torch.int64).to(self.device) for agent in self.env.agents}\n",
    "        rewards = {agent: torch.tensor([r[agent] for r in rewards], dtype=torch.float32).to(self.device) for agent in self.env.agents}\n",
    "        next_states = {agent: torch.tensor([ns[agent] for ns in next_states], dtype=torch.float32).to(self.device) for agent in self.env.agents}\n",
    "        dones = {agent: torch.tensor([d[agent] for d in dones], dtype=torch.float32).to(self.device) for agent in self.env.agents}'''\n",
    "        if len(self.replay_buffer) < self.args.minimal_size:\n",
    "            # 如果缓冲区中的数据小于 minimal_size，进行随机采样\n",
    "            states = {agent: torch.tensor(np.random.randn(self.args.batch_size, self.args.obs_shape), dtype=torch.float32).to(self.device) for agent in self.env.agents}\n",
    "            actions = {agent: torch.tensor(np.random.randint(self.args.n_actions, size=self.args.batch_size), dtype=torch.int64).to(self.device) for agent in self.env.agents}\n",
    "            rewards = {agent: torch.tensor(np.random.randn(self.args.batch_size), dtype=torch.float32).to(self.device) for agent in self.env.agents}\n",
    "            next_states = {agent: torch.tensor(np.random.randn(self.args.batch_size, self.args.obs_shape), dtype=torch.float32).to(self.device) for agent in self.env.agents}\n",
    "            dones = {agent: torch.tensor(np.random.randint(2, size=self.args.batch_size), dtype=torch.float32).to(self.device) for agent in self.env.agents}\n",
    "        else:\n",
    "            # 从经验回放缓冲区中采样\n",
    "            states, actions, rewards, next_states, dones = self.replay_buffer.sample(self.args.batch_size)\n",
    "            states = {agent: torch.tensor([s[agent] for s in states], dtype=torch.float32).to(self.device) for agent in self.env.agents}\n",
    "            actions = {agent: torch.tensor([a[agent] for a in actions], dtype=torch.int64).to(self.device) for agent in self.env.agents}\n",
    "            rewards = {agent: torch.tensor([r[agent] for r in rewards], dtype=torch.float32).to(self.device) for agent in self.env.agents}\n",
    "            next_states = {agent: torch.tensor([ns[agent] for ns in next_states], dtype=torch.float32).to(self.device) for agent in self.env.agents}\n",
    "            dones = {agent: torch.tensor([d[agent] for d in dones], dtype=torch.float32).to(self.device) for agent in self.env.agents}\n",
    "\n",
    "        hidden_state = {agent: torch.zeros((self.args.batch_size, self.args.rnn_hidden_dim), dtype=torch.float32).to(self.device) for agent in self.env.agents}\n",
    "        next_hidden_state = {agent: torch.zeros((self.args.batch_size, self.args.rnn_hidden_dim), dtype=torch.float32).to(self.device) for agent in self.env.agents}\n",
    "\n",
    "        q_values = {agent: self.rnn(states[agent], hidden_state[agent])[0].gather(1, actions[agent].unsqueeze(-1)).squeeze(-1) for agent in self.env.agents}\n",
    "        next_q_values = {agent: self.rnn(next_states[agent], next_hidden_state[agent])[0].max(dim=-1)[0] for agent in self.env.agents}\n",
    "\n",
    "        targets = {agent: rewards[agent] + self.args.gamma * next_q_values[agent] * (1 - dones[agent]) for agent in self.env.agents}\n",
    "\n",
    "        q_values_tensor = torch.stack(list(q_values.values()), dim=1)\n",
    "        targets_tensor = torch.stack(list(targets.values()), dim=1)\n",
    "        states_tensor = torch.cat([states[agent].view(self.args.batch_size, -1) for agent in self.env.agents], dim=1)\n",
    "\n",
    "        q_total = self.qmix_net(q_values_tensor, states_tensor)\n",
    "        targets_total = self.qmix_net(targets_tensor, states_tensor)\n",
    "\n",
    "        loss = self.loss_fn(q_total, targets_total.detach())\n",
    "        self.optimizer.zero_grad()\n",
    "        loss.backward()\n",
    "        self.optimizer.step()\n",
    "\n",
    "        \n",
    "    def run(self, num_episodes):\n",
    "        total_q_values = []\n",
    "        total_returns = []\n",
    "\n",
    "        for i in range(10):\n",
    "            with tqdm(total=int(num_episodes / 10), desc='Iteration %d' % i) as pbar:\n",
    "                for episode in range(int(num_episodes / 10)):\n",
    "                    obs = self.env.reset()  # 重置环境，获取初始观测\n",
    "                    hidden_state = {agent: np.zeros(self.args.rnn_hidden_dim) for agent in self.env.agents}  # 初始化每个智能体的隐藏状态\n",
    "                    episode_q_values = []\n",
    "                    episode_return = 0\n",
    "                    actions_over_time = []\n",
    "\n",
    "                    for t in range(int(self.args.num_iterations)):\n",
    "                        actions, hidden_state = self.choose_action(obs, hidden_state)\n",
    "                        next_obs, rewards, dones, _ = self.env.step(actions)\n",
    "                        self.replay_buffer.add((obs, actions, rewards, next_obs, dones))\n",
    "                        obs = next_obs\n",
    "\n",
    "                        actions_over_time.append(actions)\n",
    "\n",
    "                        q_values = []\n",
    "                        for agent in self.env.agents:\n",
    "                            agent_obs = torch.tensor(obs[agent], dtype=torch.float32).unsqueeze(0).to(self.device)\n",
    "                            agent_hidden_state = torch.tensor(hidden_state[agent], dtype=torch.float32).unsqueeze(0).to(self.device)\n",
    "                            agent_q_values, _ = self.rnn(agent_obs, agent_hidden_state)\n",
    "                            q_values.append(agent_q_values.max().item())\n",
    "                        episode_q_values.append(np.mean(q_values))\n",
    "\n",
    "                        episode_return += sum(rewards.values())\n",
    "\n",
    "                        self.train()\n",
    "\n",
    "                        if all(dones.values()):\n",
    "                            break\n",
    "\n",
    "                    total_q_values.append(np.mean(episode_q_values))\n",
    "                    total_returns.append(episode_return)\n",
    "\n",
    "                    '''if episode_return > 6000:\n",
    "                        print(f\"Episode {episode + 1} reached a total return of {episode_return}\")\n",
    "                        for t, actions in enumerate(actions_over_time):\n",
    "                            print(f\"Time step {t}:\")\n",
    "                            for agent, action in actions.items():\n",
    "                                print(f\"  Agent {agent}: Action {action}\")'''\n",
    "                    #print(episode_return)\n",
    "                    if episode_return > 10000:\n",
    "                        print(f\"Episode {episode + 1} reached a total return of {episode_return}\")\n",
    "                        for t, actions in enumerate(actions_over_time):\n",
    "                            #print(f\"Time step {t}:\")\n",
    "                            actions_list = [actions[agent] for agent in self.env.agents]\n",
    "                            print(actions_list)\n",
    "                        print(\"done\")\n",
    "                    if (episode + 1) % 10 == 0:\n",
    "                        pbar.set_postfix({'episode': '%d' % (num_episodes / 10 * i + episode + 1), 'returns': '%.3f' % np.mean(total_returns[-10:])})\n",
    "                    pbar.update(1)\n",
    "\n",
    "        return total_q_values, total_returns\n",
    "        \n",
    "        \n",
    "        \n",
    "        \n",
    "    def run1(self, num_episodes):\n",
    "        total_q_values = []\n",
    "        total_returns = []\n",
    "\n",
    "        for i in range(10):\n",
    "            with tqdm(total=int(num_episodes / 10), desc='Iteration %d' % i) as pbar:\n",
    "                for episode in range(int(num_episodes / 10)):\n",
    "                    obs = self.env.reset()  # 重置环境，获取初始观测\n",
    "                    hidden_state = {agent: np.zeros(self.args.rnn_hidden_dim) for agent in self.env.agents}  # 初始化每个智能体的隐藏状态\n",
    "                    episode_q_values = []\n",
    "                    episode_return = 0\n",
    "\n",
    "                    for t in range(self.args.num_iterations):\n",
    "                        actions, hidden_state = self.choose_action(obs, hidden_state)\n",
    "                        next_obs, rewards, dones, _ = self.env.step(actions)\n",
    "                        self.replay_buffer.add((obs, actions, rewards, next_obs, dones))\n",
    "                        obs = next_obs\n",
    "\n",
    "                        q_values = []\n",
    "                        for agent in self.env.agents:\n",
    "                            agent_obs = torch.tensor(obs[agent], dtype=torch.float32).unsqueeze(0).to(self.device)\n",
    "                            agent_hidden_state = torch.tensor(hidden_state[agent], dtype=torch.float32).unsqueeze(0).to(self.device)\n",
    "                            agent_q_values, _ = self.rnn(agent_obs, agent_hidden_state)\n",
    "                            q_values.append(agent_q_values.max().item())\n",
    "                        episode_q_values.append(np.mean(q_values))\n",
    "\n",
    "                        episode_return += sum(rewards.values())\n",
    "\n",
    "                        self.train()\n",
    "\n",
    "                        if all(dones.values()):\n",
    "                            break\n",
    "\n",
    "                    total_q_values.append(np.mean(episode_q_values))\n",
    "                    total_returns.append(episode_return)\n",
    "\n",
    "                    if (episode + 1) % 10 == 0:\n",
    "                        pbar.set_postfix({'episode': '%d' % (num_episodes / 10 * i + episode + 1), 'returns': '%.3f' % np.mean(total_returns[-10:])})\n",
    "                    pbar.update(1)\n",
    "\n",
    "        return total_q_values, total_returns\n",
    "\n",
    "    def run_one_iteration(self):\n",
    "        obs = self.env.reset()  # 重置环境，获取初始观测\n",
    "        hidden_state = {agent: np.zeros(self.args.rnn_hidden_dim) for agent in self.env.agents}  # 初始化每个智能体的隐藏状态\n",
    "\n",
    "        actions_over_time = []\n",
    "\n",
    "        for t in range(self.args.num_iterations):\n",
    "            actions, hidden_state = self.choose_action(obs, hidden_state)\n",
    "            next_obs, rewards, dones, _ = self.env.step(actions)\n",
    "\n",
    "            actions_over_time.append(actions)\n",
    "\n",
    "            if all(dones.values()):\n",
    "                break\n",
    "            obs = next_obs\n",
    "\n",
    "        for t, actions in enumerate(actions_over_time):\n",
    "            print(f\"Time step {t}:\")\n",
    "            for agent, action in actions.items():\n",
    "                print(f\"  Agent {agent}: Action {action}\")\n",
    "\n",
    "        return actions, next_obs, rewards, dones\n",
    "\n",
    "\n",
    "# 参数设置\n",
    "class Args:\n",
    "    def __init__(self, env):\n",
    "        self.state_shape = env.max_obs_size  # 状态维度，根据环境设置\n",
    "        self.obs_shape = env.max_obs_size  # 观测维度，根据环境设置\n",
    "        self.n_agents = 5  # 智能体数量\n",
    "        self.n_actions = 2  # 动作数量\n",
    "        self.qmix_hidden_dim = 32\n",
    "        self.hyper_hidden_dim = 64\n",
    "        self.rnn_hidden_dim = 64\n",
    "        self.two_hyper_layers = False\n",
    "        self.buffer_size = 100000\n",
    "        self.minimal_size = 65\n",
    "        self.batch_size = 64\n",
    "        self.gamma = 0.95\n",
    "        self.lr = 1e-3\n",
    "        self.num_iterations = env.num_iterations  # 每个episode的迭代次数\n",
    "        self.num_episodes = 1000 # 总episode数\n",
    "\n",
    "\n",
    "env = CustomEnvironment()\n",
    "torch.manual_seed(0)\n",
    "args = Args(env)\n",
    "\n",
    "# 选择是否使用CUDA\n",
    "use_cuda = False\n",
    "qmix = QMIX(env, args, use_cuda)\n",
    "total_q_values, total_returns = qmix.run(args.num_episodes)\n",
    "\n",
    "# 可视化总回报变化\n",
    "plt.plot(total_returns)\n",
    "plt.xlabel('Episodes')\n",
    "plt.ylabel('Total Return')\n",
    "plt.title('Total Return over episodes')\n",
    "plt.show()\n",
    "\n",
    "# 可视化Q值变化\n",
    "plt.plot(total_q_values)\n",
    "plt.xlabel('Episodes')\n",
    "plt.ylabel('Total Q value')\n",
    "plt.title('Total Q value over episodes')\n",
    "plt.show()\n",
    "\n",
    "#actions, next_obs, rewards, dones = qmix.run_one_iteration()"
   ]
  }
 ],
 "metadata": {
  "kernelspec": {
   "display_name": "py38",
   "language": "python",
   "name": "python3"
  },
  "language_info": {
   "codemirror_mode": {
    "name": "ipython",
    "version": 3
   },
   "file_extension": ".py",
   "mimetype": "text/x-python",
   "name": "python",
   "nbconvert_exporter": "python",
   "pygments_lexer": "ipython3",
   "version": "3.8.19"
  }
 },
 "nbformat": 4,
 "nbformat_minor": 2
}
